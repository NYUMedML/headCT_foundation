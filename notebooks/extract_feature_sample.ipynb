{
 "cells": [
  {
   "cell_type": "code",
   "execution_count": 16,
   "id": "2ef619dc",
   "metadata": {},
   "outputs": [],
   "source": [
    "import torch\n",
    "import torch.nn as nn\n",
    "from src.models.vit import ViT"
   ]
  },
  {
   "cell_type": "markdown",
   "id": "a7611917-dbc3-4166-982d-65d649a3341f",
   "metadata": {},
   "source": [
    "## Define Model"
   ]
  },
  {
   "cell_type": "code",
   "execution_count": 2,
   "id": "5c18a07c",
   "metadata": {
    "scrolled": true
   },
   "outputs": [
    {
     "data": {
      "text/plain": [
       "ViT(\n",
       "  (patch_embedding): PatchEmbeddingBlock(\n",
       "    (patch_embeddings): Conv3d(3, 768, kernel_size=(12, 12, 12), stride=(12, 12, 12))\n",
       "    (dropout): Dropout(p=0.0, inplace=False)\n",
       "  )\n",
       "  (blocks): ModuleList(\n",
       "    (0-11): 12 x AttentionBlock(\n",
       "      (mlp): MLPBlock(\n",
       "        (linear1): Linear(in_features=768, out_features=3072, bias=True)\n",
       "        (linear2): Linear(in_features=3072, out_features=768, bias=True)\n",
       "        (fn): GELU(approximate='none')\n",
       "        (drop1): Dropout(p=0.0, inplace=False)\n",
       "        (drop2): Dropout(p=0.0, inplace=False)\n",
       "      )\n",
       "      (att_norm): LayerNorm((768,), eps=1e-05, elementwise_affine=True)\n",
       "      (ffn_norm): LayerNorm((768,), eps=1e-05, elementwise_affine=True)\n",
       "      (attn): SelfAttention(\n",
       "        (qkv): Linear(in_features=768, out_features=2304, bias=False)\n",
       "        (proj): Linear(in_features=768, out_features=768, bias=True)\n",
       "        (proj_drop): Dropout(p=0.0, inplace=False)\n",
       "      )\n",
       "    )\n",
       "  )\n",
       "  (norm): LayerNorm((768,), eps=1e-06, elementwise_affine=True)\n",
       ")"
      ]
     },
     "execution_count": 2,
     "metadata": {},
     "output_type": "execute_result"
    }
   ],
   "source": [
    "# Define model parameters as a dictionary\n",
    "model_params = {\n",
    "    \"img_size\": 96,\n",
    "    \"patch_size\": 12,\n",
    "    \"hidden_size\": 768,\n",
    "    \"mlp_dim\": 3072,\n",
    "    \"num_layers\": 12,\n",
    "    \"num_heads\": 12,\n",
    "    \"in_chans\": 3,\n",
    "    \"dropout_rate\": 0.0,\n",
    "    \"spatial_dims\": 3,\n",
    "    \"patch_embed\": 'conv',\n",
    "    \"pos_embed\": \"sincos\",\n",
    "    \"classification\": False,\n",
    "    \"num_classes\": 2,\n",
    "    \"qkv_bias\": False,\n",
    "    \"norm_layer\": nn.LayerNorm,\n",
    "    \"post_activation\": \"Tanh\",\n",
    "}\n",
    "\n",
    "# Determine the device\n",
    "device = torch.device(\"cuda\" if torch.cuda.is_available() else \"cpu\")\n",
    "\n",
    "# Define the model\n",
    "model = ViT(**model_params).to(device)\n",
    "\n",
    "model.eval()"
   ]
  },
  {
   "cell_type": "code",
   "execution_count": 3,
   "id": "1cf30a7f",
   "metadata": {},
   "outputs": [
    {
     "name": "stdout",
     "output_type": "stream",
     "text": [
      "Total parameters: 89404416\n"
     ]
    }
   ],
   "source": [
    "def count_parameters(model):\n",
    "    total_params = sum(p.numel() for p in model.parameters())\n",
    "    return total_params\n",
    "    \n",
    "num_params = count_parameters(model)\n",
    "print(f\"Total parameters: {num_params}\")"
   ]
  },
  {
   "cell_type": "markdown",
   "id": "54606359",
   "metadata": {},
   "source": [
    "## Create Dataloader"
   ]
  },
  {
   "cell_type": "code",
   "execution_count": 4,
   "id": "95f87c9a",
   "metadata": {},
   "outputs": [],
   "source": [
    "from monai import data\n",
    "from monai import transforms\n",
    "\n",
    "from src.utils.misc import create_dataset\n",
    "from src.data.transforms import MultipleWindowScaleStack"
   ]
  },
  {
   "cell_type": "code",
   "execution_count": 5,
   "id": "d30a21a1",
   "metadata": {},
   "outputs": [],
   "source": [
    "roi = [96, 96, 96]\n",
    "window_sizes = [(40, 80), (80, 200), (600, 2800)]\n",
    "windowing_tran = MultipleWindowScaleStack(\n",
    "    keys=[\"image\"],\n",
    "    window_sizes=window_sizes,\n",
    ")\n",
    "\n",
    "trans = transforms.Compose(\n",
    "    [\n",
    "        transforms.LoadImaged(\n",
    "            keys=[\"image\"],\n",
    "            image_only=True,\n",
    "            allow_missing_keys=True,\n",
    "        ),\n",
    "        transforms.EnsureChannelFirstd(\n",
    "            keys=[\"image\"],\n",
    "            allow_missing_keys=True,\n",
    "        ),\n",
    "        transforms.Orientationd(\n",
    "            keys=[\"image\"],\n",
    "            axcodes=\"RAS\",\n",
    "            allow_missing_keys=True,\n",
    "        ),\n",
    "        transforms.Spacingd(\n",
    "            keys=[\"image\"],\n",
    "            pixdim=(1.0, 1.0, 1.0),\n",
    "            mode=3,\n",
    "            allow_missing_keys=True\n",
    "        ),\n",
    "        transforms.CropForegroundd(\n",
    "            keys=[\"image\"],\n",
    "            source_key=\"image\",\n",
    "            allow_smaller=False,\n",
    "            allow_missing_keys=True,\n",
    "        ),\n",
    "        transforms.Resized(\n",
    "            keys=[\"image\"],\n",
    "            spatial_size=(roi[0], roi[1], roi[2]),\n",
    "            allow_missing_keys=True,\n",
    "        ),\n",
    "        windowing_tran,\n",
    "        transforms.ToTensord(\n",
    "            keys=[\"image\"],\n",
    "            allow_missing_keys=True,\n",
    "        ),\n",
    "    ]\n",
    ")"
   ]
  },
  {
   "cell_type": "code",
   "execution_count": 7,
   "id": "9bc205d0",
   "metadata": {},
   "outputs": [],
   "source": [
    "# We present four nifti file samples from public RSNA dataset as example\n",
    "sample_images = [\n",
    "    {'image': '../sample_nifti/ID_c7cc66d672.nii.gz'},\n",
    "    {'image': '../sample_nifti/ID_7a2902d550.nii.gz'},\n",
    "    {'image': '../sample_nifti/ID_a186fdc315.nii.gz'},\n",
    "    {'image': '../sample_nifti/ID_53d3458f56.nii.gz'}\n",
    "]"
   ]
  },
  {
   "cell_type": "code",
   "execution_count": 8,
   "id": "c5073b46",
   "metadata": {},
   "outputs": [],
   "source": [
    "# Define dataloader and get scan array\n",
    "batch_size = 4\n",
    "\n",
    "test_ds = data.Dataset(\n",
    "    data=sample_images, \n",
    "    transform=trans,\n",
    ")\n",
    "\n",
    "test_loader = data.DataLoader(\n",
    "    dataset=test_ds,\n",
    "    batch_size=batch_size,\n",
    "    num_workers=1,\n",
    "    pin_memory=True,\n",
    "    shuffle=False,\n",
    ")\n",
    "\n",
    "x_img = next(iter(test_loader))['image']\n",
    "x_img = x_img.to(device)"
   ]
  },
  {
   "cell_type": "code",
   "execution_count": 9,
   "id": "8137b64f",
   "metadata": {},
   "outputs": [
    {
     "name": "stdout",
     "output_type": "stream",
     "text": [
      "Shape for current scan: torch.Size([4, 3, 96, 96, 96])\n"
     ]
    }
   ],
   "source": [
    "print(f\"Shape for current scan: {x_img.shape}\")"
   ]
  },
  {
   "cell_type": "markdown",
   "id": "a2785c6d",
   "metadata": {},
   "source": [
    "## Extract Feature"
   ]
  },
  {
   "cell_type": "code",
   "execution_count": 10,
   "id": "085d24d1",
   "metadata": {
    "scrolled": true
   },
   "outputs": [],
   "source": [
    "# Model output last layer and all layers representations for all tokens\n",
    "# of shape [batch_size, num_tokens, num_features]\n",
    "last_layer_out, all_layers_out = model(x_img)"
   ]
  },
  {
   "cell_type": "code",
   "execution_count": 11,
   "id": "8fdf2f81",
   "metadata": {},
   "outputs": [
    {
     "name": "stdout",
     "output_type": "stream",
     "text": [
      "Shape of last layer output feature: torch.Size([4, 513, 768])\n"
     ]
    }
   ],
   "source": [
    "print(f\"Shape of last layer output feature: {last_layer_out.shape}\")"
   ]
  },
  {
   "cell_type": "markdown",
   "id": "5c9605df",
   "metadata": {},
   "source": [
    "## Classification"
   ]
  },
  {
   "cell_type": "code",
   "execution_count": 12,
   "id": "6ae2617c",
   "metadata": {},
   "outputs": [],
   "source": [
    "from src.models.classifier import LinearClassifier"
   ]
  },
  {
   "cell_type": "code",
   "execution_count": 13,
   "id": "2307e1cd",
   "metadata": {},
   "outputs": [
    {
     "data": {
      "text/plain": [
       "LinearClassifier(\n",
       "  (bn): BatchNorm1d(768, eps=1e-06, momentum=0.1, affine=False, track_running_stats=True)\n",
       "  (linear): Linear(in_features=768, out_features=2, bias=True)\n",
       ")"
      ]
     },
     "execution_count": 13,
     "metadata": {},
     "output_type": "execute_result"
    }
   ],
   "source": [
    "# Define model parameters as a dictionary\n",
    "model_params = {\n",
    "    \"dim\": 768,\n",
    "    \"num_classes\": 2,\n",
    "}\n",
    "\n",
    "# Define linear classifier\n",
    "classifier = LinearClassifier(**model_params).to(device)\n",
    "\n",
    "classifier.eval()"
   ]
  },
  {
   "cell_type": "code",
   "execution_count": 14,
   "id": "8189ab08",
   "metadata": {},
   "outputs": [],
   "source": [
    "# Get [CLS] token representation and get logits with linear classifier\n",
    "# of shape [batch_size, num_classes]\n",
    "cls_token_out = last_layer_out[:, 0, :]\n",
    "logits = classifier(cls_token_out)"
   ]
  },
  {
   "cell_type": "code",
   "execution_count": 15,
   "id": "b776aaed",
   "metadata": {},
   "outputs": [
    {
     "name": "stdout",
     "output_type": "stream",
     "text": [
      "Shape of logits: torch.Size([4, 2])\n"
     ]
    }
   ],
   "source": [
    "print(f\"Shape of logits: {logits.shape}\")"
   ]
  },
  {
   "cell_type": "code",
   "execution_count": null,
   "id": "64fcee08",
   "metadata": {},
   "outputs": [],
   "source": []
  }
 ],
 "metadata": {
  "kernelspec": {
   "display_name": "Python 3 (ipykernel)",
   "language": "python",
   "name": "python3"
  },
  "language_info": {
   "codemirror_mode": {
    "name": "ipython",
    "version": 3
   },
   "file_extension": ".py",
   "mimetype": "text/x-python",
   "name": "python",
   "nbconvert_exporter": "python",
   "pygments_lexer": "ipython3",
   "version": "3.8.18"
  }
 },
 "nbformat": 4,
 "nbformat_minor": 5
}
